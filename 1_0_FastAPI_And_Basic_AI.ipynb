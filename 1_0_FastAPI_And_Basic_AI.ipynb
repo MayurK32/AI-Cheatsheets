{
 "cells": [
  {
   "cell_type": "markdown",
   "metadata": {},
   "source": [
    "# 🚀 Build Your First AI-Powered API\n",
    "\n",
    "<div style=\"background: linear-gradient(135deg, #1A73E8 0%, #1565C0 100%); padding: 30px; border-radius: 15px; color: white; text-align: center; margin: 20px 0; border: 2px solid #F5F5F5; box-shadow: 0 4px 12px rgba(26, 115, 232, 0.15);\">\n",
    "    <h1 style=\"margin: 0; color: white;\">🤖 Welcome, Future AI Developer!</h1>\n",
    "    <p style=\"font-size: 1.1em; margin: 10px 0; color: #F5F5F5;\">You'll build a working AI API in just 30 minutes!</p>\n",
    "    <p style=\"margin: 0; color: #FDD835;\">⭐ No prior experience needed ⭐</p>\n",
    "</div>\n",
    "\n",
    "## 🎯 What You'll Build Today\n",
    "\n",
    "<div style=\"background: rgba(26, 115, 232, 0.1); border: 2px solid #1A73E8; border-radius: 10px; padding: 15px; margin: 10px 0;\">\n",
    "\n",
    "```\n",
    "Your AI API will:\n",
    "✅ Chat with users intelligently  \n",
    "✅ Translate text to any language\n",
    "✅ Generate creative content\n",
    "✅ Analyze text sentiment\n",
    "```\n",
    "\n",
    "</div>\n",
    "\n",
    "## 📍 Your Learning Journey\n",
    "\n",
    "```mermaid\n",
    "graph LR\n",
    "    A[📦 Step 1: Setup] --> B[🔑 Step 2: API Key]\n",
    "    B --> C[⚡ Step 3: First API]\n",
    "    C --> D[🤖 Step 4: Add AI]\n",
    "    D --> E[🧪 Step 5: Test It]\n",
    "    E --> F[🎉 Done!]\n",
    "    \n",
    "    style A fill:#E3F2FD\n",
    "    style F fill:#E8F5E8\n",
    "```\n",
    "\n",
    "> **💡 Tip:** Run each cell one by one. Don't rush - you've got this! 🌟"
   ]
  },
  {
   "cell_type": "markdown",
   "metadata": {},
   "source": [
    "<div style=\"background: linear-gradient(135deg, #1A73E8 0%, #1565C0 100%); padding: 25px; border-radius: 12px; color: white; text-align: center; margin: 20px 0; border: 2px solid #F5F5F5; box-shadow: 0 4px 12px rgba(26, 115, 232, 0.15);\">\n",
    "<h3 style=\"margin: 0; color: white;\">📚 Created by</h3>\n",
    "<h2 style=\"margin: 10px 0; color: white; font-size: 1.8em;\">Mayur Kolekar</h2>\n",
    "<p style=\"margin: 10px 0; color: #F5F5F5;\">Senior developer - Applied AI</p>\n",
    "<a href=\"https://www.linkedin.com/in/mayur-kolekar-ai/\" target=\"_blank\" style=\"display: inline-block; background: rgba(253, 216, 53, 0.2); color: #FDD835; padding: 10px 20px; border-radius: 8px; text-decoration: none; font-weight: bold; border: 1px solid #FDD835;\">\n",
    "💼 Connect on LinkedIn\n",
    "</a>\n",
    "</div>"
   ]
  },
  {
   "cell_type": "markdown",
   "metadata": {},
   "source": [
    "---\n",
    "# 📦 STEP 1: Environment Setup\n",
    "\n",
    "<div style=\"background: rgba(26, 115, 232, 0.1); border-left: 5px solid #1A73E8; padding: 15px; border-radius: 10px; margin: 10px 0;\">\n",
    "    <h3 style=\"margin: 0 0 10px 0; color: #1A73E8;\">🎯 Goal: Get your computer ready for AI development</h3>\n",
    "    <p style=\"margin: 0; color: #374151;\">We'll check if everything is working properly!</p>\n",
    "</div>\n",
    "\n",
    "## ✅ Checkpoint 1.1: System Check"
   ]
  },
  {
   "cell_type": "code",
   "execution_count": null,
   "metadata": {},
   "outputs": [],
   "source": [
    "# 🖥️ Let's check your system!\n",
    "import sys\n",
    "import platform\n",
    "\n",
    "print(\"🔍 CHECKING YOUR SYSTEM...\")\n",
    "print(\"=\" * 40)\n",
    "\n",
    "# Check Python version\n",
    "python_version = sys.version_info\n",
    "print(f\"🐍 Python Version: {python_version.major}.{python_version.minor}.{python_version.micro}\")\n",
    "\n",
    "if python_version >= (3, 8):\n",
    "    print(\"✅ Perfect! Your Python version works great!\")\n",
    "else:\n",
    "    print(\"❌ Please update to Python 3.8 or higher\")\n",
    "\n",
    "print(f\"💻 Operating System: {platform.system()}\")\n",
    "print(f\"🏗️ Platform: {platform.machine()}\")\n",
    "\n",
    "print(\"\\n🎉 System check complete!\")"
   ]
  },
  {
   "cell_type": "markdown",
   "metadata": {},
   "source": [
    "### 🏆 Success Checkpoint!\n",
    "**Did you see \"Perfect! Your Python version works great!\"?** \n",
    "- ✅ **YES** → Great! Continue to next step\n",
    "- ❌ **NO** → Update Python first, then come back\n",
    "\n",
    "---"
   ]
  },
  {
   "cell_type": "markdown",
   "metadata": {},
   "source": [
    "## ✅ Checkpoint 1.2: Install Required Packages\n",
    "\n",
    "<div style=\"background: rgba(253, 216, 53, 0.1); border-left: 5px solid #FDD835; padding: 15px; border-radius: 10px; margin: 10px 0;\">\n",
    "    <h4 style=\"margin: 0 0 10px 0; color: #F57C00;\">📚 What we're installing:</h4>\n",
    "    <ul style=\"margin: 0; color: #374151;\">\n",
    "        <li><b>fastapi</b> - Creates web APIs easily</li>\n",
    "        <li><b>uvicorn</b> - Runs your API server</li>\n",
    "        <li><b>groq</b> - Connects to AI models</li>\n",
    "        <li><b>python-dotenv</b> - Manages secret keys</li>\n",
    "    </ul>\n",
    "</div>"
   ]
  },
  {
   "cell_type": "code",
   "execution_count": 1,
   "metadata": {},
   "outputs": [
    {
     "name": "stdout",
     "output_type": "stream",
     "text": [
      "📦 Installing packages...\n",
      "⏳ This might take 30-60 seconds...\n",
      "\n",
      "Installing fastapi...\n",
      "✅ fastapi installed!\n",
      "Installing uvicorn[standard]...\n",
      "✅ uvicorn[standard] installed!\n",
      "Installing groq...\n",
      "✅ groq installed!\n",
      "Installing python-dotenv...\n",
      "✅ python-dotenv installed!\n",
      "\n",
      "🎉 Package installation complete!\n"
     ]
    }
   ],
   "source": [
    "# 📦 Installing packages - this might take a minute!\n",
    "# Note: In this environment, we'll use pip magic commands instead of subprocess\n",
    "\n",
    "packages = [\n",
    "    \"fastapi==0.110.0\",\n",
    "    \"uvicorn[standard]==0.27.1\", \n",
    "    \"groq==0.4.2\",\n",
    "    \"python-dotenv==1.0.1\"\n",
    "]\n",
    "\n",
    "print(\"📦 Installing packages...\")\n",
    "print(\"⏳ This might take 30-60 seconds...\")\n",
    "print()\n",
    "\n",
    "# Use pip magic command which works better in Jupyter environments\n",
    "import sys\n",
    "import os\n",
    "\n",
    "for package in packages:\n",
    "    print(f\"Installing {package.split('==')[0]}...\")\n",
    "    try:\n",
    "        # Use pip directly instead of subprocess\n",
    "        result = os.system(f'\"{sys.executable}\" -m pip install {package} -q')\n",
    "        if result == 0:\n",
    "            print(f\"✅ {package.split('==')[0]} installed!\")\n",
    "        else:\n",
    "            print(f\"❌ Failed to install {package.split('==')[0]}\")\n",
    "    except Exception as e:\n",
    "        print(f\"❌ Failed to install {package.split('==')[0]}: {e}\")\n",
    "\n",
    "print(\"\\n🎉 Package installation complete!\")"
   ]
  },
  {
   "cell_type": "code",
   "execution_count": 2,
   "metadata": {},
   "outputs": [
    {
     "name": "stdout",
     "output_type": "stream",
     "text": [
      "🔍 Testing package installation...\n",
      "\n",
      "✅ fastapi - Ready to use!\n",
      "✅ uvicorn - Ready to use!\n",
      "✅ groq - Ready to use!\n",
      "✅ dotenv - Ready to use!\n",
      "\n",
      "🎉 SUCCESS! All packages are ready!\n"
     ]
    }
   ],
   "source": [
    "# 🧪 Let's verify everything installed correctly\n",
    "test_packages = ['fastapi', 'uvicorn', 'groq', 'dotenv']\n",
    "\n",
    "print(\"🔍 Testing package installation...\")\n",
    "print()\n",
    "\n",
    "all_good = True\n",
    "for package in test_packages:\n",
    "    try:\n",
    "        __import__(package)\n",
    "        print(f\"✅ {package} - Ready to use!\")\n",
    "    except ImportError:\n",
    "        print(f\"❌ {package} - Not installed\")\n",
    "        all_good = False\n",
    "\n",
    "if all_good:\n",
    "    print(\"\\n🎉 SUCCESS! All packages are ready!\")\n",
    "else:\n",
    "    print(\"\\n⚠️ Some packages failed. Try running the cell above again.\")"
   ]
  },
  {
   "cell_type": "markdown",
   "metadata": {},
   "source": [
    "### 🏆 Success Checkpoint!\n",
    "**Did you see \"SUCCESS! All packages are ready!\"?** \n",
    "- ✅ **YES** → Awesome! You're ready for Step 2!\n",
    "- ❌ **NO** → Run the installation cell again, or check your internet connection\n",
    "\n",
    "---"
   ]
  },
  {
   "cell_type": "markdown",
   "metadata": {},
   "source": [
    "# 🔑 STEP 2: Get Your AI API Key\n",
    "\n",
    "<div style=\"background: rgba(26, 115, 232, 0.1); border-left: 5px solid #1A73E8; padding: 15px; border-radius: 10px; margin: 10px 0;\">\n",
    "    <h3 style=\"margin: 0 0 10px 0; color: #1A73E8;\">🎯 Goal: Get a free API key to access AI models</h3>\n",
    "    <p style=\"margin: 0; color: #374151;\">Think of this as your \"password\" to use AI services!</p>\n",
    "</div>\n",
    "\n",
    "## 📝 How to Get Your FREE Groq API Key\n",
    "\n",
    "### Follow these exact steps:\n",
    "\n",
    "1. **🌐 Open a new tab and go to:** https://console.groq.com\n",
    "2. **📧 Sign up** with your email address\n",
    "3. **✉️ Check your email** and verify your account\n",
    "4. **🔑 In the dashboard, click \"API Keys\"**\n",
    "5. **➕ Click \"Create API Key\"**\n",
    "6. **📋 Copy the key** (it starts with `gsk_`)\n",
    "7. **🔄 Come back here and paste it below**\n",
    "\n",
    "### ✅ Checkpoint 2.1: Enter Your API Key"
   ]
  },
  {
   "cell_type": "code",
   "execution_count": 1,
   "metadata": {},
   "outputs": [
    {
     "name": "stdout",
     "output_type": "stream",
     "text": [
      "⚠️ Your key doesn't look right. Groq keys start with 'gsk_'\n",
      "Double-check you copied the whole key!\n"
     ]
    }
   ],
   "source": [
    "# 🔐 Enter your API key here\n",
    "# Replace \"paste_your_key_here\" with your actual key\n",
    "\n",
    "GROQ_API_KEY = \"Add_Your_Grok_Key_here\"\n",
    "\n",
    "# Let's check if you entered a real key\n",
    "if GROQ_API_KEY == \"paste_your_key_here\":\n",
    "    print(\"❌ Please replace 'paste_your_key_here' with your real API key!\")\n",
    "    print(\"💡 Get it from: https://console.groq.com\")\n",
    "elif GROQ_API_KEY.startswith(\"gsk_\"):\n",
    "    print(\"✅ Great! Your API key looks correct!\")\n",
    "    print(f\"🔑 Key starts with: {GROQ_API_KEY[:7]}...\")\n",
    "else:\n",
    "    print(\"⚠️ Your key doesn't look right. Groq keys start with 'gsk_'\")\n",
    "    print(\"Double-check you copied the whole key!\")"
   ]
  },
  {
   "cell_type": "code",
   "execution_count": null,
   "metadata": {},
   "outputs": [
    {
     "name": "stdout",
     "output_type": "stream",
     "text": [
      "✅ API key works! (verified with direct request)\n",
      "🤖 AI responded: <think>\n",
      "\n",
      "</think>\n",
      "\n",
      "Hello! How can I assist\n",
      "🎉 Ready to build your AI API!\n"
     ]
    }
   ],
   "source": [
    "# 🧪 Let's test if your API key works!\n",
    "\n",
    "if GROQ_API_KEY.startswith(\"gsk_\"):\n",
    "    import requests\n",
    "    import json\n",
    "    \n",
    "    headers = {\n",
    "        \"Authorization\": f\"Bearer {GROQ_API_KEY}\",\n",
    "        \"Content-Type\": \"application/json\"\n",
    "    }\n",
    "    \n",
    "    data = {\n",
    "        \"model\": \"deepseek-r1-distill-llama-70b\",\n",
    "        \"messages\": [{\"role\": \"user\", \"content\": \"Hello\"}],\n",
    "        \"max_tokens\": 10\n",
    "    }\n",
    "    \n",
    "    response = requests.post(\n",
    "        \"https://api.groq.com/openai/v1/chat/completions\",\n",
    "        headers=headers,\n",
    "        json=data,\n",
    "        timeout=30\n",
    "    )\n",
    "    \n",
    "    if response.status_code == 200:\n",
    "        result = response.json()\n",
    "        print(\"✅ API key works! (verified with direct request)\")\n",
    "        print(f\"🤖 AI responded: {result['choices'][0]['message']['content']}\")\n",
    "        print(\"🎉 Ready to build your AI API!\")\n",
    "    else:\n",
    "        print(f\"❌ API returned status code: {response.status_code}\")\n",
    "        print(f\"Response: {response.text}\")\n",
    "                       \n",
    "else:\n",
    "    print(\"⏭️ Please enter your API key in the cell above first!\")"
   ]
  },
  {
   "cell_type": "markdown",
   "metadata": {},
   "source": [
    "### 🏆 Success Checkpoint!\n",
    "**Did you see \"SUCCESS! Your API key works!\"?** \n",
    "- ✅ **YES** → Perfect! The AI is ready to chat!\n",
    "- ❌ **NO** → Double-check your API key and try again\n",
    "\n",
    "---"
   ]
  },
  {
   "cell_type": "markdown",
   "metadata": {},
   "source": [
    "# ⚡ STEP 3: Build Your First API\n",
    "\n",
    "<div style=\"background: rgba(26, 115, 232, 0.1); border-left: 5px solid #1A73E8; padding: 15px; border-radius: 10px; margin: 10px 0;\">\n",
    "    <h3 style=\"margin: 0 0 10px 0; color: #1A73E8;\">🎯 Goal: Create a simple web API that responds to requests</h3>\n",
    "    <p style=\"margin: 0; color: #374151;\">We'll start with a basic \"Hello World\" API, then make it smarter!</p>\n",
    "</div>\n",
    "\n",
    "## ✅ Checkpoint 3.1: Create Basic FastAPI App"
   ]
  },
  {
   "cell_type": "code",
   "execution_count": 13,
   "metadata": {},
   "outputs": [
    {
     "name": "stdout",
     "output_type": "stream",
     "text": [
      "✅ FastAPI app created!\n",
      "🎯 Your API is ready for endpoints!\n"
     ]
    }
   ],
   "source": [
    "# 🚀 Let's create your first API!\n",
    "from fastapi import FastAPI\n",
    "from pydantic import BaseModel\n",
    "\n",
    "# Create the API app\n",
    "app = FastAPI(\n",
    "    title=\"My First AI API\",\n",
    "    description=\"Built by a future AI developer! 🚀\",\n",
    "    version=\"1.0.0\"\n",
    ")\n",
    "\n",
    "print(\"✅ FastAPI app created!\")\n",
    "print(\"🎯 Your API is ready for endpoints!\")"
   ]
  },
  {
   "cell_type": "code",
   "execution_count": 14,
   "metadata": {},
   "outputs": [
    {
     "name": "stdout",
     "output_type": "stream",
     "text": [
      "✅ Home endpoint added!\n",
      "📍 Visitors to your API will see a welcome message\n"
     ]
    }
   ],
   "source": [
    "# 🏠 Add a home page to your API\n",
    "@app.get(\"/\")\n",
    "def welcome():\n",
    "    \"\"\"This is what people see when they visit your API\"\"\"\n",
    "    return {\n",
    "        \"message\": \"🎉 Welcome to my AI API!\",\n",
    "        \"status\": \"running\",\n",
    "        \"creator\": \"A future AI developer\",\n",
    "        \"available_endpoints\": [\n",
    "            \"/docs - See all endpoints\",\n",
    "            \"/chat - Talk to AI\"\n",
    "        ]\n",
    "    }\n",
    "\n",
    "print(\"✅ Home endpoint added!\")\n",
    "print(\"📍 Visitors to your API will see a welcome message\")"
   ]
  },
  {
   "cell_type": "code",
   "execution_count": 15,
   "metadata": {},
   "outputs": [
    {
     "name": "stdout",
     "output_type": "stream",
     "text": [
      "✅ Hello endpoint added!\n",
      "👋 People can now get personalized greetings!\n"
     ]
    }
   ],
   "source": [
    "# 🎪 Add a fun endpoint that greets people by name\n",
    "@app.get(\"/hello/{name}\")\n",
    "def say_hello(name: str):\n",
    "    \"\"\"Say hello to someone by name\"\"\"\n",
    "    return {\n",
    "        \"message\": f\"👋 Hello, {name}!\",\n",
    "        \"name_length\": len(name),\n",
    "        \"fun_fact\": f\"Your name has {len(name)} letters!\"\n",
    "    }\n",
    "\n",
    "print(\"✅ Hello endpoint added!\")\n",
    "print(\"👋 People can now get personalized greetings!\")"
   ]
  },
  {
   "cell_type": "markdown",
   "metadata": {},
   "source": [
    "## ✅ Checkpoint 3.2: Test Your Basic API"
   ]
  },
  {
   "cell_type": "code",
   "execution_count": 16,
   "metadata": {},
   "outputs": [
    {
     "name": "stdout",
     "output_type": "stream",
     "text": [
      "🏠 Testing home page:\n",
      "Message: 🎉 Welcome to my AI API!\n",
      "Status: running\n",
      "\n",
      "👋 Testing hello endpoint:\n",
      "Message: 👋 Hello, Alex!\n",
      "Fun fact: Your name has 4 letters!\n",
      "\n",
      "✅ Both endpoints work perfectly!\n"
     ]
    }
   ],
   "source": [
    "# 🧪 Let's test your API endpoints!\n",
    "\n",
    "# Test the welcome endpoint\n",
    "welcome_result = welcome()\n",
    "print(\"🏠 Testing home page:\")\n",
    "print(f\"Message: {welcome_result['message']}\")\n",
    "print(f\"Status: {welcome_result['status']}\")\n",
    "\n",
    "print()\n",
    "\n",
    "# Test the hello endpoint\n",
    "hello_result = say_hello(\"Alex\")\n",
    "print(\"👋 Testing hello endpoint:\")\n",
    "print(f\"Message: {hello_result['message']}\")\n",
    "print(f\"Fun fact: {hello_result['fun_fact']}\")\n",
    "\n",
    "print(\"\\n✅ Both endpoints work perfectly!\")"
   ]
  },
  {
   "cell_type": "markdown",
   "metadata": {},
   "source": [
    "### 🏆 Success Checkpoint!\n",
    "**Did you see both endpoints working?** \n",
    "- ✅ **YES** → Excellent! Your API is alive!\n",
    "- ❌ **NO** → Run the cells above again\n",
    "\n",
    "---"
   ]
  },
  {
   "cell_type": "markdown",
   "metadata": {},
   "source": [
    "# 🤖 STEP 4: Add AI Power to Your API\n",
    "\n",
    "<div style=\"background: rgba(26, 115, 232, 0.1); border-left: 5px solid #1A73E8; padding: 15px; border-radius: 10px; margin: 10px 0;\">\n",
    "    <h3 style=\"margin: 0 0 10px 0; color: #1A73E8;\">🎯 Goal: Make your API intelligent with AI!</h3>\n",
    "    <p style=\"margin: 0; color: #374151;\">Now comes the magic - we'll add AI that can chat, translate, and create!</p>\n",
    "</div>\n",
    "\n",
    "## ✅ Checkpoint 4.1: Create AI Chat Function"
   ]
  },
  {
   "cell_type": "code",
   "execution_count": 18,
   "metadata": {},
   "outputs": [
    {
     "name": "stdout",
     "output_type": "stream",
     "text": [
      "✅ AI chat function created!\n",
      "🧠 Your API can now think and respond!\n"
     ]
    }
   ],
   "source": [
    "# 🧠 Create a helper function to talk to AI\n",
    "import requests\n",
    "import json\n",
    "\n",
    "def ask_ai(question: str, temperature: float = 0.7) -> str:\n",
    "    \"\"\"Ask the AI a question and get an answer using direct API calls\"\"\"\n",
    "    try:\n",
    "        headers = {\n",
    "            \"Authorization\": f\"Bearer {GROQ_API_KEY}\",\n",
    "            \"Content-Type\": \"application/json\"\n",
    "        }\n",
    "        \n",
    "        data = {\n",
    "            \"model\": \"deepseek-r1-distill-llama-70b\",\n",
    "            \"messages\": [\n",
    "                {\"role\": \"system\", \"content\": \"You are a helpful and friendly AI assistant.\"},\n",
    "                {\"role\": \"user\", \"content\": question}\n",
    "            ],\n",
    "            \"temperature\": temperature,\n",
    "            \"max_tokens\": 500\n",
    "        }\n",
    "        \n",
    "        response = requests.post(\n",
    "            \"https://api.groq.com/openai/v1/chat/completions\",\n",
    "            headers=headers,\n",
    "            json=data,\n",
    "            timeout=30\n",
    "        )\n",
    "        \n",
    "        if response.status_code == 200:\n",
    "            result = response.json()\n",
    "            return result['choices'][0]['message']['content']\n",
    "        else:\n",
    "            return f\"Sorry, I couldn't process that. API returned status code: {response.status_code}\"\n",
    "            \n",
    "    except Exception as e:\n",
    "        return f\"Sorry, I couldn't process that: {str(e)}\"\n",
    "\n",
    "print(\"✅ AI chat function created!\")\n",
    "print(\"🧠 Your API can now think and respond!\")"
   ]
  },
  {
   "cell_type": "code",
   "execution_count": 19,
   "metadata": {},
   "outputs": [
    {
     "name": "stdout",
     "output_type": "stream",
     "text": [
      "🧪 Testing AI function...\n",
      "\n",
      "❓ Question: What is Python programming?\n",
      "🤖 AI Answer: <think>\n",
      "Okay, I need to explain what Python programming is. Let me start by defining Python as a high-level, interpreted programming language. It's known for its simplicity and readability, thanks to its clean syntax. I should mention that it was created by Guido van Rossum and first released in 1991.\n",
      "\n",
      "Next, I'll highlight some of its key features. Python is easy to learn, especially for beginners, because of its straightforward syntax. It's versatile, used in web development, data analysis, AI, machine learning, automation, and more. The extensive libraries and frameworks like Django and TensorFlow make development efficient.\n",
      "\n",
      "I should also talk about its interpretive nature, meaning the code is executed line by line, which is great for prototyping. Python's dynamic typing is another point, allowing flexibility in coding. The large community and constant updates ensure it stays relevant and supported.\n",
      "\n",
      "I'll wrap it up by summarizing why Python is popular: ease of use, versatility, and the wealth of resources available. This should give a clear and concise overview of what Python programming is.\n",
      "</think>\n",
      "\n",
      "Python programming is a high-level, interpreted programming language that is known for its simplicity, readability, and versatility. Created by Guido van Rossum and first released in 1991, Python is designed to emphasize code readability with its clean syntax and use of significant whitespace. It is widely used in various fields such as web development, data analysis, artificial intelligence, machine learning, automation, and more. Python is particularly popular among beginners due to its ease of learning and extensive libraries that simplify complex tasks. Its interpretive nature allows for rapid prototyping and dynamic typing, making it a favorite among developers for both small-scale and large-scale projects. The large and active community behind Python ensures that there are numerous resources, libraries, and frameworks available, which contribute to its popularity and continuous development.\n",
      "\n",
      "✅ AI is working perfectly!\n"
     ]
    }
   ],
   "source": [
    "# 🧪 Let's test the AI function\n",
    "print(\"🧪 Testing AI function...\")\n",
    "print()\n",
    "\n",
    "test_question = \"What is Python programming?\"\n",
    "ai_answer = ask_ai(test_question)\n",
    "\n",
    "print(f\"❓ Question: {test_question}\")\n",
    "print(f\"🤖 AI Answer: {ai_answer}\")\n",
    "print()\n",
    "print(\"✅ AI is working perfectly!\")"
   ]
  },
  {
   "cell_type": "markdown",
   "metadata": {},
   "source": [
    "## ✅ Checkpoint 4.2: Add AI Endpoints to Your API"
   ]
  },
  {
   "cell_type": "code",
   "execution_count": 20,
   "metadata": {},
   "outputs": [
    {
     "name": "stdout",
     "output_type": "stream",
     "text": [
      "✅ Chat endpoint added!\n",
      "💬 People can now chat with your AI!\n"
     ]
    }
   ],
   "source": [
    "# 🗣️ Add a chat endpoint to your API\n",
    "from pydantic import BaseModel\n",
    "\n",
    "class ChatMessage(BaseModel):\n",
    "    \"\"\"What users send when they want to chat\"\"\"\n",
    "    message: str\n",
    "\n",
    "@app.post(\"/chat\")\n",
    "def chat_with_ai(chat: ChatMessage):\n",
    "    \"\"\"Chat with the AI\"\"\"\n",
    "    ai_response = ask_ai(chat.message)\n",
    "    \n",
    "    return {\n",
    "        \"your_message\": chat.message,\n",
    "        \"ai_response\": ai_response,\n",
    "        \"status\": \"success\"\n",
    "    }\n",
    "\n",
    "print(\"✅ Chat endpoint added!\")\n",
    "print(\"💬 People can now chat with your AI!\")"
   ]
  },
  {
   "cell_type": "code",
   "execution_count": 21,
   "metadata": {},
   "outputs": [
    {
     "name": "stdout",
     "output_type": "stream",
     "text": [
      "✅ Translation endpoint added!\n",
      "🌍 Your API can now translate to any language!\n"
     ]
    }
   ],
   "source": [
    "# 🌍 Add a translation endpoint\n",
    "class TranslationRequest(BaseModel):\n",
    "    \"\"\"What users send when they want translation\"\"\"\n",
    "    text: str\n",
    "    language: str\n",
    "\n",
    "@app.post(\"/translate\")\n",
    "def translate_text(request: TranslationRequest):\n",
    "    \"\"\"Translate text to any language\"\"\"\n",
    "    prompt = f\"Translate this text to {request.language}: {request.text}\"\n",
    "    translation = ask_ai(prompt, temperature=0.3)  # Lower temperature for accuracy\n",
    "    \n",
    "    return {\n",
    "        \"original_text\": request.text,\n",
    "        \"target_language\": request.language,\n",
    "        \"translation\": translation,\n",
    "        \"status\": \"success\"\n",
    "    }\n",
    "\n",
    "print(\"✅ Translation endpoint added!\")\n",
    "print(\"🌍 Your API can now translate to any language!\")"
   ]
  },
  {
   "cell_type": "code",
   "execution_count": 22,
   "metadata": {},
   "outputs": [
    {
     "name": "stdout",
     "output_type": "stream",
     "text": [
      "✅ Creative writing endpoint added!\n",
      "🎨 Your AI can now create stories, poems, and more!\n"
     ]
    }
   ],
   "source": [
    "# 🎨 Add a creative writing endpoint\n",
    "class CreativeRequest(BaseModel):\n",
    "    \"\"\"What users send for creative content\"\"\"\n",
    "    topic: str\n",
    "    style: str = \"story\"  # Default to story\n",
    "\n",
    "@app.post(\"/create\")\n",
    "def create_content(request: CreativeRequest):\n",
    "    \"\"\"Generate creative content\"\"\"\n",
    "    prompt = f\"Write a creative {request.style} about: {request.topic}\"\n",
    "    creative_content = ask_ai(prompt, temperature=0.9)  # High temperature for creativity\n",
    "    \n",
    "    return {\n",
    "        \"topic\": request.topic,\n",
    "        \"style\": request.style,\n",
    "        \"content\": creative_content,\n",
    "        \"status\": \"success\"\n",
    "    }\n",
    "\n",
    "print(\"✅ Creative writing endpoint added!\")\n",
    "print(\"🎨 Your AI can now create stories, poems, and more!\")"
   ]
  },
  {
   "cell_type": "markdown",
   "metadata": {},
   "source": [
    "### 🏆 Success Checkpoint!\n",
    "**Did you see all endpoints added successfully?** \n",
    "- ✅ **YES** → Amazing! Your AI API is complete!\n",
    "- ❌ **NO** → Check for errors and run cells again\n",
    "\n",
    "---"
   ]
  },
  {
   "cell_type": "markdown",
   "metadata": {},
   "source": [
    "# 🧪 STEP 5: Test Your AI API\n",
    "\n",
    "<div style=\"background: rgba(26, 115, 232, 0.1); border-left: 5px solid #1A73E8; padding: 15px; border-radius: 10px; margin: 10px 0;\">\n",
    "    <h3 style=\"margin: 0 0 10px 0; color: #1A73E8;\">🎯 Goal: Make sure everything works perfectly!</h3>\n",
    "    <p style=\"margin: 0; color: #374151;\">Let's test all your AI endpoints and see the magic happen!</p>\n",
    "</div>\n",
    "\n",
    "## ✅ Checkpoint 5.1: Test Chat Feature"
   ]
  },
  {
   "cell_type": "code",
   "execution_count": 23,
   "metadata": {},
   "outputs": [
    {
     "name": "stdout",
     "output_type": "stream",
     "text": [
      "💬 TESTING CHAT FEATURE\n",
      "==============================\n",
      "You asked: What's the best programming language for beginners?\n",
      "\n",
      "🤖 AI responded: <think>\n",
      "Okay, so I'm trying to figure out what the best programming language is for someone who's just starting out. I've heard a lot about different languages like Python, JavaScript, HTML/CSS, Java, C++, and maybe even some others. I need to think through each one and see which would be the most suitable for a beginner.\n",
      "\n",
      "First, I remember that Python is often recommended for beginners. I think it's because the syntax is simpler and more readable. Like, you don't need to worry about semicolons or curly braces as much as in other languages. That makes it easier to write and understand the code. Plus, Python is used in a lot of fields, so it's versatile. I've heard it's good for data analysis, machine learning, and even web development. But I'm not sure how easy it is to set up or if there are any downsides.\n",
      "\n",
      "Then there's JavaScript. I know JavaScript is used mainly for web development, especially for making websites interactive. It's also used in mobile and desktop apps, and even in backend with Node.js. The thing is, JavaScript has a reputation for being a bit tricky with concepts like callbacks and closures, which might confuse someone just starting out. But it's also everywhere on the web, so it's a valuable skill.\n",
      "\n",
      "HTML and CSS aren't programming languages, but they're essential for web development. HTML structures the content, and CSS styles it. They seem pretty straightforward, but they're not programming, so maybe they're better to learn alongside a programming language rather than on their own.\n",
      "\n",
      "Java is another one I've heard about. It's known for being \"write once, run anywhere\" because of the JVM. It's used in Android apps, web development, and enterprise software. But Java has a steeper learning curve because of object-oriented concepts and more verbose syntax. It might be overwhelming for a new learner.\n",
      "\n",
      "C++ is a powerful language with low-level memory management, which is great for systems programming and games. But it's definitely more complex and harder to learn for beginners. It's probably not the best first language unless someone is specifically interested in areas where C++ is used.\n",
      "\n",
      "Ruby is another language I've come across. It's known for being easy to read and has a syntax that's similar to English. It's used a lot in web development with the Rails framework. But I don't hear as much about it as I do about Python or JavaScript, so\n",
      "\n",
      "Status: ✅ success\n"
     ]
    }
   ],
   "source": [
    "# 💬 Test your chat endpoint\n",
    "print(\"💬 TESTING CHAT FEATURE\")\n",
    "print(\"=\" * 30)\n",
    "\n",
    "# Create a test message\n",
    "test_chat = ChatMessage(message=\"What's the best programming language for beginners?\")\n",
    "\n",
    "# Get response from your API\n",
    "chat_result = chat_with_ai(test_chat)\n",
    "\n",
    "print(f\"You asked: {chat_result['your_message']}\")\n",
    "print()\n",
    "print(f\"🤖 AI responded: {chat_result['ai_response']}\")\n",
    "print()\n",
    "print(f\"Status: ✅ {chat_result['status']}\")"
   ]
  },
  {
   "cell_type": "markdown",
   "metadata": {},
   "source": [
    "## ✅ Checkpoint 5.2: Test Translation Feature"
   ]
  },
  {
   "cell_type": "code",
   "execution_count": 24,
   "metadata": {},
   "outputs": [
    {
     "name": "stdout",
     "output_type": "stream",
     "text": [
      "🌍 TESTING TRANSLATION FEATURE\n",
      "==============================\n",
      "Original: Hello! I built my first AI API today!\n",
      "Language: Spanish\n",
      "Translation: <think>\n",
      "Okay, the user wants me to translate \"Hello! I built my first AI API today!\" into Spanish. Let me break this down.\n",
      "\n",
      "First, \"Hello!\" is a common greeting, so in Spanish that's \"¡Hola!\". \n",
      "\n",
      "Next, \"I built my first AI API today!\" – \"I built\" translates to \"he construido\". \n",
      "\n",
      "\"My first\" is \"mi primer\". \n",
      "\n",
      "\"AI API\" would be \"API de IA\" since AI is \"Inteligencia Artificial\" in Spanish, but it's often abbreviated as IA.\n",
      "\n",
      "\"Today\" is \"hoy\".\n",
      "\n",
      "Putting it all together: \"¡Hola! Hoy he construido mi primera API de IA.\" \n",
      "\n",
      "I should make sure the translation is both accurate and natural. Also, considering the context, the user is excited about building their first AI API, so the translation should convey that enthusiasm. \n",
      "\n",
      "I think that's a solid translation. Let me double-check each part to ensure there are no errors. Yeah, that looks good!\n",
      "</think>\n",
      "\n",
      "¡Hola! Hoy he construido mi primera API de IA.\n",
      "Status: ✅ success\n"
     ]
    }
   ],
   "source": [
    "# 🌍 Test your translation endpoint\n",
    "print(\"🌍 TESTING TRANSLATION FEATURE\")\n",
    "print(\"=\" * 30)\n",
    "\n",
    "# Create a test translation\n",
    "test_translation = TranslationRequest(\n",
    "    text=\"Hello! I built my first AI API today!\",\n",
    "    language=\"Spanish\"\n",
    ")\n",
    "\n",
    "# Get translation from your API\n",
    "translation_result = translate_text(test_translation)\n",
    "\n",
    "print(f\"Original: {translation_result['original_text']}\")\n",
    "print(f\"Language: {translation_result['target_language']}\")\n",
    "print(f\"Translation: {translation_result['translation']}\")\n",
    "print(f\"Status: ✅ {translation_result['status']}\")"
   ]
  },
  {
   "cell_type": "markdown",
   "metadata": {},
   "source": [
    "## ✅ Checkpoint 5.3: Test Creative Writing"
   ]
  },
  {
   "cell_type": "code",
   "execution_count": 25,
   "metadata": {},
   "outputs": [
    {
     "name": "stdout",
     "output_type": "stream",
     "text": [
      "🎨 TESTING CREATIVE WRITING FEATURE\n",
      "==============================\n",
      "Topic: a robot learning to code\n",
      "Style: short funny story\n",
      "\n",
      "🎭 Creative Content:\n",
      "<think>\n",
      "Okay, so I have this task where I need to write a creative, short, funny story about a robot learning to code. Hmm, that's an interesting prompt. Let me think about how to approach this.\n",
      "\n",
      "First, I should probably establish the robot's character. Maybe give it a name that reflects its purpose, like \"Byte.\" That's catchy and techy. Now, what would a robot want to learn coding for? Maybe it's curious or wants to help out. Let's say Byte is in a lab, maybe with a quirky scientist. That adds a bit of human (or humanoid) interaction.\n",
      "\n",
      "I need some humor. Maybe the robot's initial attempts at coding are comically bad. Like, instead of a simple \"Hello, World!\" program, it does something funny, like making the computer sing show tunes. That's unexpected and humorous. The scientist could react in a surprised but amused way, which adds to the light-hearted tone.\n",
      "\n",
      "Then, as the robot progresses, each coding attempt leads to a funny outcome. For example, trying to make a game but ending up with something ridiculous, like jousting dinosaurs. That's visually funny and a bit absurd. Each mistake could escalate the humor, showing that Byte is enthusiastic but not quite getting it yet.\n",
      "\n",
      "Eventually, the robot succeeds, but in a way that's still amusing. Maybe creating a dancing robot app that becomes a viral hit. That wraps up the story on a positive note with a funny twist. I should make sure the story flows well, with each coding attempt building on the previous one, leading to the final success.\n",
      "\n",
      "I should keep the language simple and engaging, using dialogue to show the interactions between Byte and the scientist. Adding some exclamation marks and playful dialogue will make it more humorous. The scientist's reactions can balance between frustration and amusement, making the story relatable and funny.\n",
      "\n",
      "I think that's a good structure. Now, let me put it all together in a short, funny story. Make sure it's creative, has a clear beginning, middle, and end, and keeps the reader entertained with the robot's antics as it learns to code.\n",
      "</think>\n",
      "\n",
      "**Title: Byte's Coding Capers**\n",
      "\n",
      "In a bustling tech lab, there lived a curious robot named Byte. Byte was known for his shiny, metallic exterior and an insatiable curiosity. One day, he approached his creator, the quirky Dr. Stella, with a gleam in his digital eye. \"\n",
      "\n",
      "Status: ✅ success\n"
     ]
    }
   ],
   "source": [
    "# 🎨 Test your creative endpoint\n",
    "print(\"🎨 TESTING CREATIVE WRITING FEATURE\")\n",
    "print(\"=\" * 30)\n",
    "\n",
    "# Create a test creative request\n",
    "test_creative = CreativeRequest(\n",
    "    topic=\"a robot learning to code\",\n",
    "    style=\"short funny story\"\n",
    ")\n",
    "\n",
    "# Get creative content from your API\n",
    "creative_result = create_content(test_creative)\n",
    "\n",
    "print(f\"Topic: {creative_result['topic']}\")\n",
    "print(f\"Style: {creative_result['style']}\")\n",
    "print()\n",
    "print(f\"🎭 Creative Content:\")\n",
    "print(creative_result['content'])\n",
    "print()\n",
    "print(f\"Status: ✅ {creative_result['status']}\")"
   ]
  },
  {
   "cell_type": "markdown",
   "metadata": {},
   "source": [
    "### 🏆 Success Checkpoint!\n",
    "**Did all three features work?** \n",
    "- ✅ **YES** → CONGRATULATIONS! Your AI API is fully functional!\n",
    "- ❌ **NO** → Check for errors in previous steps\n",
    "\n",
    "---"
   ]
  },
  {
   "cell_type": "markdown",
   "metadata": {},
   "source": [
    "# 🚀 STEP 6: Launch Your API Server\n",
    "\n",
    "<div style=\"background: rgba(26, 115, 232, 0.1); border-left: 5px solid #1A73E8; padding: 15px; border-radius: 10px; margin: 10px 0;\">\n",
    "    <h3 style=\"margin: 0 0 10px 0; color: #1A73E8;\">🎯 Goal: Make your API available to the world!</h3>\n",
    "    <p style=\"margin: 0; color: #374151;\">Let's start your server so others can use your AI API!</p>\n",
    "</div>\n",
    "\n",
    "## 📋 Quick Server Setup"
   ]
  },
  {
   "cell_type": "code",
   "execution_count": 29,
   "metadata": {},
   "outputs": [
    {
     "name": "stdout",
     "output_type": "stream",
     "text": [
      "✅ API saved to 'my_ai_api.py'\n",
      "🚀 You can now run it anytime with:\n",
      "   python my_ai_api.py\n",
      "   OR\n",
      "   uvicorn my_ai_api:app --reload\n"
     ]
    }
   ],
   "source": [
    "# 💾 Save your API to a file so you can run it anytime\n",
    "api_code = '''\n",
    "from fastapi import FastAPI\n",
    "from pydantic import BaseModel\n",
    "import requests\n",
    "import json\n",
    "\n",
    "# Your API Key (replace with your real key)\n",
    "GROQ_API_KEY = \"''' + GROQ_API_KEY + '''\"\n",
    "\n",
    "# Create FastAPI app\n",
    "app = FastAPI(\n",
    "    title=\"My AI API\",\n",
    "    description=\"Built by a future AI developer! 🚀\",\n",
    "    version=\"1.0.0\"\n",
    ")\n",
    "\n",
    "def ask_ai(question: str, temperature: float = 0.7) -> str:\n",
    "    \"\"\"Ask AI a question using direct API calls\"\"\"\n",
    "    try:\n",
    "        headers = {\n",
    "            \"Authorization\": f\"Bearer {GROQ_API_KEY}\",\n",
    "            \"Content-Type\": \"application/json\"\n",
    "        }\n",
    "        \n",
    "        data = {\n",
    "            \"model\": \"deepseek-r1-distill-llama-70b\",\n",
    "            \"messages\": [\n",
    "                {\"role\": \"system\", \"content\": \"You are a helpful AI assistant.\"},\n",
    "                {\"role\": \"user\", \"content\": question}\n",
    "            ],\n",
    "            \"temperature\": temperature,\n",
    "            \"max_tokens\": 500\n",
    "        }\n",
    "        \n",
    "        response = requests.post(\n",
    "            \"https://api.groq.com/openai/v1/chat/completions\",\n",
    "            headers=headers,\n",
    "            json=data,\n",
    "            timeout=30\n",
    "        )\n",
    "        \n",
    "        if response.status_code == 200:\n",
    "            result = response.json()\n",
    "            return result['choices'][0]['message']['content']\n",
    "        else:\n",
    "            return f\"Error: API returned status code {response.status_code}\"\n",
    "            \n",
    "    except Exception as e:\n",
    "        return f\"Error: {str(e)}\"\n",
    "\n",
    "# Data models\n",
    "class ChatMessage(BaseModel):\n",
    "    message: str\n",
    "\n",
    "class TranslationRequest(BaseModel):\n",
    "    text: str\n",
    "    language: str\n",
    "\n",
    "class CreativeRequest(BaseModel):\n",
    "    topic: str\n",
    "    style: str = \"story\"\n",
    "\n",
    "# API Endpoints\n",
    "@app.get(\"/\")\n",
    "def welcome():\n",
    "    return {\n",
    "        \"message\": \"🎉 Welcome to my AI API!\",\n",
    "        \"endpoints\": [\"/chat\", \"/translate\", \"/create\", \"/docs\"]\n",
    "    }\n",
    "\n",
    "@app.post(\"/chat\")\n",
    "def chat_with_ai(chat: ChatMessage):\n",
    "    return {\n",
    "        \"your_message\": chat.message,\n",
    "        \"ai_response\": ask_ai(chat.message),\n",
    "        \"status\": \"success\"\n",
    "    }\n",
    "\n",
    "@app.post(\"/translate\")\n",
    "def translate_text(request: TranslationRequest):\n",
    "    prompt = f\"Translate to {request.language}: {request.text}\"\n",
    "    return {\n",
    "        \"original\": request.text,\n",
    "        \"language\": request.language,\n",
    "        \"translation\": ask_ai(prompt, 0.3),\n",
    "        \"status\": \"success\"\n",
    "    }\n",
    "\n",
    "@app.post(\"/create\")\n",
    "def create_content(request: CreativeRequest):\n",
    "    prompt = f\"Write a {request.style} about: {request.topic}\"\n",
    "    return {\n",
    "        \"topic\": request.topic,\n",
    "        \"content\": ask_ai(prompt, 0.9),\n",
    "        \"status\": \"success\"\n",
    "    }\n",
    "\n",
    "if __name__ == \"__main__\":\n",
    "    import uvicorn\n",
    "    uvicorn.run(app, host=\"0.0.0.0\", port=8000)\n",
    "'''\n",
    "\n",
    "# Save to file\n",
    "with open('my_ai_api.py', 'w') as f:\n",
    "    f.write(api_code)\n",
    "\n",
    "print(\"✅ API saved to 'my_ai_api.py'\")\n",
    "print(\"🚀 You can now run it anytime with:\")\n",
    "print(\"   python my_ai_api.py\")\n",
    "print(\"   OR\")\n",
    "print(\"   uvicorn my_ai_api:app --reload\")"
   ]
  },
  {
   "cell_type": "markdown",
   "metadata": {},
   "source": [
    "## 🎯 How to Run Your API Server\n",
    "\n",
    "<div style=\"background: rgba(253, 216, 53, 0.1); border-left: 5px solid #FDD835; padding: 15px; border-radius: 10px; margin: 10px 0;\">\n",
    "<h4 style=\"margin: 0 0 15px 0; color: #F57C00;\">🔥 Three Ways to Start Your Server:</h4>\n",
    "\n",
    "<h5 style=\"color: #374151;\">Option 1: Simple Way</h5>\n",
    "\n",
    "```bash\n",
    "python my_ai_api.py\n",
    "```\n",
    "\n",
    "<h5 style=\"color: #374151;\">Option 2: Developer Way (Auto-reload)</h5>\n",
    "\n",
    "```bash\n",
    "uvicorn my_ai_api:app --reload\n",
    "```\n",
    "\n",
    "<h5 style=\"color: #374151;\">Option 3: PowerShell (Windows)</h5>\n",
    "\n",
    "```powershell\n",
    "python -m uvicorn my_ai_api:app --reload --host 0.0.0.0 --port 8000\n",
    "```\n",
    "\n",
    "<h4 style=\"margin: 15px 0 10px 0; color: #F57C00;\">📍 Where to Find Your API:</h4>\n",
    "\n",
    "- 🏠 **Your API:** http://localhost:8000\n",
    "- 📚 **Documentation:** http://localhost:8000/docs  \n",
    "- 📊 **Alternative Docs:** http://localhost:8000/redoc\n",
    "\n",
    "</div>"
   ]
  },
  {
   "cell_type": "markdown",
   "metadata": {},
   "source": [
    "---\n",
    "# 🎉 CONGRATULATIONS! \n",
    "\n",
    "<div style=\"background: linear-gradient(135deg, #1A73E8 0%, #1565C0 100%); padding: 30px; border-radius: 15px; color: white; text-align: center; margin: 20px 0; box-shadow: 0 4px 12px rgba(26, 115, 232, 0.15);\">\n",
    "<h1 style=\"color: white;\">🏆 You Did It!</h1>\n",
    "<p style=\"color: #F5F5F5;\">You just built a complete AI-powered API from scratch!</p>\n",
    "<h3 style=\"color: #FDD835;\">✨ What You Built ✨</h3>\n",
    "</div>\n",
    "\n",
    "## 🎯 Your AI API Can Now:\n",
    "\n",
    "✅ **Chat intelligently** with users using AI  \n",
    "✅ **Translate text** to any language instantly  \n",
    "✅ **Generate creative content** like stories and poems  \n",
    "✅ **Provide automatic documentation** for easy testing  \n",
    "✅ **Handle multiple requests** simultaneously  \n",
    "✅ **Return structured JSON responses** professionally  \n",
    "\n",
    "## 🚀 Skills You Mastered:\n",
    "\n",
    "- **🐍 Python Programming:** Writing clean, functional code\n",
    "- **⚡ FastAPI Framework:** Building modern web APIs\n",
    "- **🤖 AI Integration:** Connecting to powerful language models\n",
    "- **🔧 API Design:** Creating user-friendly endpoints\n",
    "- **🧪 Testing & Debugging:** Validating your code works perfectly\n",
    "- **📚 Documentation:** Auto-generating interactive API docs\n",
    "\n",
    "## 🎯 Next Steps (Choose Your Adventure!):\n",
    "\n",
    "**1. 🎨 Add a Frontend**  \n",
    "Build a beautiful web interface with HTML/CSS/JavaScript\n",
    "\n",
    "**2. 💾 Add a Database**  \n",
    "Store conversations and user data with SQLite or PostgreSQL\n",
    "\n",
    "**3. 🔐 Add Security**  \n",
    "Implement API keys and user authentication\n",
    "\n",
    "**4. ☁️ Deploy Online**  \n",
    "Share your API with the world using Heroku, AWS, or Vercel\n",
    "\n",
    "**5. 📊 Add Analytics**  \n",
    "Track usage patterns and API performance\n",
    "\n",
    "## 🔗 Continue Learning:\n",
    "\n",
    "- **📖 FastAPI Docs:** https://fastapi.tiangolo.com\n",
    "- **🤖 Groq Console:** https://console.groq.com  \n",
    "- **🐍 Python Docs:** https://docs.python.org\n",
    "- **💻 GitHub:** Share your code with the community\n",
    "\n",
    "---\n",
    "\n",
    "<div style=\"background: linear-gradient(135deg, #FDD835 0%, #F57C00 100%); border-radius: 15px; padding: 30px; margin: 30px 0; text-align: center; color: white; box-shadow: 0 4px 12px rgba(253, 216, 53, 0.15);\">\n",
    "<h2 style=\"color: white;\">🎊 You're Now an AI API Developer! 🎊</h2>\n",
    "<p style=\"color: #FFF3CD;\">Take a moment to celebrate this incredible achievement!</p>\n",
    "<p style=\"color: #FFF3CD;\">You've joined the ranks of developers building the future with AI! 🚀</p>\n",
    "<br>\n",
    "<strong style=\"color: white;\">Share Your Success:</strong><br>\n",
    "<em style=\"color: #FFF3CD;\">\"I just built my first AI-powered API! 🤖⚡ #AI #Python #FastAPI #Coding\"</em>\n",
    "</div>\n",
    "\n",
    "---\n",
    "\n",
    "<div style=\"background: linear-gradient(135deg, #1A73E8 0%, #1565C0 100%); padding: 25px; border-radius: 12px; color: white; text-align: center; margin: 20px 0; box-shadow: 0 4px 12px rgba(26, 115, 232, 0.15);\">\n",
    "<h3 style=\"margin: 0; color: white;\">🎓 Tutorial Created by</h3>\n",
    "<h2 style=\"margin: 10px 0; color: white;\">Mayur Kolekar</h2>\n",
    "<p style=\"margin: 5px 0; color: #F5F5F5;\">Applied AI Specialist | Deep Tech Innovation</p>\n",
    "<p style=\"margin: 15px 0; color: #F5F5F5;\">Building the future with AI, one API at a time</p>\n",
    "<a href=\"https://www.linkedin.com/in/mayur-kolekar-ai/\" target=\"_blank\" style=\"display: inline-block; background: rgba(253, 216, 53, 0.2); color: #FDD835; padding: 12px 25px; border-radius: 8px; text-decoration: none; font-weight: bold; margin-top: 10px; border: 1px solid #FDD835;\">\n",
    "💼 Connect on LinkedIn\n",
    "</a>\n",
    "</div>\n",
    "\n",
    "<div style=\"background: rgba(26, 115, 232, 0.1); border: 2px solid #1A73E8; border-radius: 10px; padding: 20px; margin: 20px 0; text-align: center;\">\n",
    "<p style=\"margin: 0; color: #1A73E8; font-weight: bold;\">💡 Found this tutorial helpful? Connect with me for more AI & tech content!</p>\n",
    "</div>"
   ]
  },
  {
   "cell_type": "markdown",
   "metadata": {},
   "source": []
  }
 ],
 "metadata": {
  "kernelspec": {
   "display_name": "base",
   "language": "python",
   "name": "python3"
  },
  "language_info": {
   "codemirror_mode": {
    "name": "ipython",
    "version": 3
   },
   "file_extension": ".py",
   "mimetype": "text/x-python",
   "name": "python",
   "nbconvert_exporter": "python",
   "pygments_lexer": "ipython3",
   "version": "3.12.8"
  }
 },
 "nbformat": 4,
 "nbformat_minor": 4
}
